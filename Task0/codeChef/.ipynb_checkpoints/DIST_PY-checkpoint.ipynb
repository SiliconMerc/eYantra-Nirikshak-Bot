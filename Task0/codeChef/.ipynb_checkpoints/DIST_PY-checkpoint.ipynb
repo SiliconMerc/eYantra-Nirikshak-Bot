{
 "cells": [
  {
   "cell_type": "code",
   "execution_count": 10,
   "metadata": {},
   "outputs": [
    {
     "name": "stdout",
     "output_type": "stream",
     "text": [
      "2\n",
      "-1 0 5 2\n",
      "6.32\n",
      "2 1 6 -2\n",
      "5.00\n"
     ]
    }
   ],
   "source": [
    "'''\n",
    "*****************************************************************************************\n",
    "*\n",
    "*\n",
    "*  This script is code stub for CodeChef problem code DIST_PY\n",
    "*  under contest PYLT20TS in Task 0 of Nirikshak Bot (NB) Theme (eYRC 2020-21).\n",
    "*\n",
    "*  Filename:            DIST_PY.py\n",
    "*  Created:             02/10/2020\n",
    "*  Last Modified:       02/10/2020\n",
    "*  Author:              e-Yantra Team\n",
    "*\n",
    "*****************************************************************************************\n",
    "'''\n",
    " \n",
    "# Import any required module/s\n",
    "import math\n",
    "\n",
    "# Function to calculate Euclidean distance between two points\n",
    "def compute_distance(x1, y1, x2, y2):\n",
    "\n",
    "    distance = 0\n",
    "    \n",
    "    # Complete this function to return Euclidean distance and\n",
    "    # print the distance value with precision up to 2 decimal places\n",
    "    distance = math.sqrt((x1-x2)**2+(y1-y2)**2)\n",
    "    print(\"%.2f\"%(distance))\n",
    "    return distance\n",
    "\n",
    "\n",
    "# Main function\n",
    "if __name__ == '__main__':\n",
    "    \n",
    "    # Take the T (test_cases) input\n",
    "    test_cases = int(input())\n",
    "    for i in range(test_cases):\n",
    "        # Write the code here to take the x1, y1, x2 and y2 values\n",
    "        list=input().split(\" \")\n",
    "        x1=int(list[0])\n",
    "        y1=int(list[1])\n",
    "        x2=int(list[2])\n",
    "        y2=int(list[3])\n",
    "        #print(x1,y1,x2,y2)\n",
    "        # Once you have all 4 values, call the compute_distance function to find Euclidean distance\n",
    "        compute_distance(x1, y1, x2, y2)\n"
   ]
  }
 ],
 "metadata": {
  "kernelspec": {
   "display_name": "Python 3",
   "language": "python",
   "name": "python3"
  },
  "language_info": {
   "codemirror_mode": {
    "name": "ipython",
    "version": 3
   },
   "file_extension": ".py",
   "mimetype": "text/x-python",
   "name": "python",
   "nbconvert_exporter": "python",
   "pygments_lexer": "ipython3",
   "version": "3.8.5"
  }
 },
 "nbformat": 4,
 "nbformat_minor": 4
}
