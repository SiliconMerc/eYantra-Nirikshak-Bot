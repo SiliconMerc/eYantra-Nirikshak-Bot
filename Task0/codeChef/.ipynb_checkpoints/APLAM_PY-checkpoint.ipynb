{
 "cells": [
  {
   "cell_type": "code",
   "execution_count": 8,
   "metadata": {},
   "outputs": [
    {
     "name": "stdout",
     "output_type": "stream",
     "text": [
      "1\n",
      "2 5 7\n",
      "2 7 12 17 22 27 32\n"
     ]
    },
    {
     "ename": "TypeError",
     "evalue": "'list' object is not callable",
     "output_type": "error",
     "traceback": [
      "\u001b[0;31m---------------------------------------------------------------------------\u001b[0m",
      "\u001b[0;31mTypeError\u001b[0m                                 Traceback (most recent call last)",
      "\u001b[0;32m<ipython-input-8-83ea89ef8e7b>\u001b[0m in \u001b[0;36m<module>\u001b[0;34m\u001b[0m\n\u001b[1;32m     47\u001b[0m         \u001b[0;31m#print(AP_series)\u001b[0m\u001b[0;34m\u001b[0m\u001b[0;34m\u001b[0m\u001b[0;34m\u001b[0m\u001b[0m\n\u001b[1;32m     48\u001b[0m         \u001b[0;31m# Using lambda and map functions, find squares of terms in AP series and print it\u001b[0m\u001b[0;34m\u001b[0m\u001b[0;34m\u001b[0m\u001b[0;34m\u001b[0m\u001b[0m\n\u001b[0;32m---> 49\u001b[0;31m         \u001b[0msqr_AP_series\u001b[0m \u001b[0;34m=\u001b[0m \u001b[0mlist\u001b[0m\u001b[0;34m(\u001b[0m\u001b[0mmap\u001b[0m\u001b[0;34m(\u001b[0m\u001b[0;32mlambda\u001b[0m \u001b[0mx\u001b[0m\u001b[0;34m:\u001b[0m\u001b[0mx\u001b[0m\u001b[0;34m*\u001b[0m\u001b[0mx\u001b[0m\u001b[0;34m,\u001b[0m\u001b[0mAP_series\u001b[0m\u001b[0;34m)\u001b[0m\u001b[0;34m)\u001b[0m\u001b[0;34m\u001b[0m\u001b[0;34m\u001b[0m\u001b[0m\n\u001b[0m\u001b[1;32m     50\u001b[0m         \u001b[0mprint\u001b[0m\u001b[0;34m(\u001b[0m\u001b[0;34m*\u001b[0m\u001b[0msqr_AP_series\u001b[0m\u001b[0;34m)\u001b[0m\u001b[0;34m\u001b[0m\u001b[0;34m\u001b[0m\u001b[0m\n\u001b[1;32m     51\u001b[0m         \u001b[0;31m#print(sqr_AP_series[0])\u001b[0m\u001b[0;34m\u001b[0m\u001b[0;34m\u001b[0m\u001b[0;34m\u001b[0m\u001b[0m\n",
      "\u001b[0;31mTypeError\u001b[0m: 'list' object is not callable"
     ]
    }
   ],
   "source": [
    "'''\n",
    "*****************************************************************************************\n",
    "*\n",
    "*\n",
    "*  This script is code stub for CodeChef problem code APLAM_PY\n",
    "*  under contest PYLT20TS in Task 0 of Nirikshak Bot (NB) Theme (eYRC 2020-21).\n",
    "*\n",
    "*  Filename:\t\t\tAPLAM_PY.py\n",
    "*  Created:\t\t\t\t04/10/2020\n",
    "*  Last Modified:\t\t04/10/2020\n",
    "*  Author:\t\t\t\te-Yantra Team\n",
    "*\n",
    "*****************************************************************************************\n",
    "'''\n",
    "\n",
    "# Import reduce module\n",
    "from functools import reduce\n",
    "\n",
    "\n",
    "# Function to calculate Euclidean distance between two points\n",
    "def generate_AP(a1, d, n):\n",
    "\n",
    "    AP_series = []\n",
    "\n",
    "    # Complete this function to return A.P. series\n",
    "    for i in range(n):\n",
    "        AP_series.append(a1+i*d)\n",
    "\n",
    "    return AP_series\n",
    "\n",
    "\n",
    "# Main function\n",
    "if __name__ == '__main__':\n",
    "\n",
    "    # take the T (test_cases) input\n",
    "    test_cases = int(input())\n",
    "\n",
    "    # Write the code here to take the a1, d and n values\n",
    "    for i in range(test_cases):\n",
    "        list=input().split(\" \")\n",
    "        a1=int(list[0])\n",
    "        d=int(list[1])\n",
    "        n=int(list[2])\n",
    "        # Once you have all 3 values, call the generate_AP function to find A.P. series and print it\n",
    "        AP_series = generate_AP(a1, d, n)\n",
    "        print(*AP_series)\n",
    "        #print(AP_series)\n",
    "        # Using lambda and map functions, find squares of terms in AP series and print it\n",
    "        sqr_AP_series = list(map(lambda x:x*x,AP_series))\n",
    "        print(*sqr_AP_series)\n",
    "        #print(sqr_AP_series[0])\n",
    "        # Using lambda and reduce functions, find sum of squares of terms in AP series and print it\n",
    "        sum_sqr_AP_series = reduce(lambda x,y:x+y,sqr_AP_series,0)\n",
    "        #print(AP_series,sqr_AP_series,sum_sqr_AP_series)\n",
    "        print(sum_sqr_AP_series)\n"
   ]
  }
 ],
 "metadata": {
  "kernelspec": {
   "display_name": "NB_2182",
   "language": "python",
   "name": "nb_2182"
  },
  "language_info": {
   "codemirror_mode": {
    "name": "ipython",
    "version": 3
   },
   "file_extension": ".py",
   "mimetype": "text/x-python",
   "name": "python",
   "nbconvert_exporter": "python",
   "pygments_lexer": "ipython3",
   "version": "3.8.5"
  }
 },
 "nbformat": 4,
 "nbformat_minor": 4
}
