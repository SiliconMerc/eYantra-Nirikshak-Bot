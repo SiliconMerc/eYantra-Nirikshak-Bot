{
 "cells": [
  {
   "cell_type": "code",
   "execution_count": null,
   "metadata": {},
   "outputs": [],
   "source": [
    "'''\n",
    "*****************************************************************************************\n",
    "*\n",
    "*\n",
    "*  This script is code stub for CodeChef problem code SLICE_PY\n",
    "*  under contest PYLT20TS in Task 0 of Nirikshak Bot (NB) Theme (eYRC 2020-21).\n",
    "*\n",
    "*  Filename:            SLICE_PY.py\n",
    "*  Created:             04/10/2020\n",
    "*  Last Modified:       04/10/2020\n",
    "*  Author:              e-Yantra Team\n",
    "*\n",
    "*****************************************************************************************\n",
    "'''\n",
    " \n",
    "# Main function\n",
    "if __name__ == '__main__':\n",
    "    \n",
    "    # Take the T (test_cases) input\n",
    "    test_cases = int(input())\n",
    " \n",
    "    # Write your code from here\n",
    "    #taking input\n",
    "    for i in range(test_cases):\n",
    "        n=int(input());\n",
    "        list=input().split()\n",
    "        # for j in range(n):\n",
    "        #     list[j]=int(list[j])\n",
    "        #printing output\n",
    "        # print(list[-1::-1])\n",
    "        print(\" \".join(list[-1::-1]))\n",
    "        # print(map(lambda x: x+3,list[0::3]))\n",
    "        print(\" \".join(map(lambda x: x+3,list[0::3])))\n",
    "        # print(map(lambda x: x-7,list[0::3]))\n",
    "        print(\" \".join(map(lambda x: x-7,list[0::5])))\n",
    "        #reduce\n",
    "        sum=0\n",
    "        for i in list[3:7]:\n",
    "            sum=int(i)+sum\n",
    "        print(sum)\n",
    "\n",
    " "
   ]
  }
 ],
 "metadata": {
  "kernelspec": {
   "display_name": "Python 3",
   "language": "python",
   "name": "python3"
  },
  "language_info": {
   "codemirror_mode": {
    "name": "ipython",
    "version": 3
   },
   "file_extension": ".py",
   "mimetype": "text/x-python",
   "name": "python",
   "nbconvert_exporter": "python",
   "pygments_lexer": "ipython3",
   "version": "3.8.5"
  }
 },
 "nbformat": 4,
 "nbformat_minor": 4
}
