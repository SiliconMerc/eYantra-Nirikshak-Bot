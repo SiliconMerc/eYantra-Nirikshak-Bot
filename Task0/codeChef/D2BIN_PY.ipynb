{
 "cells": [
  {
   "cell_type": "code",
   "execution_count": 7,
   "metadata": {},
   "outputs": [
    {
     "name": "stdout",
     "output_type": "stream",
     "text": [
      "2\n",
      "100\n",
      "01100100\n",
      "255\n",
      "11111111\n"
     ]
    }
   ],
   "source": [
    "'''\n",
    "*****************************************************************************************\n",
    "*\n",
    "*\n",
    "*  This script is code stub for CodeChef problem code D2BIN_PY\n",
    "*  under contest PYLT20TS in Task 0 of Nirikshak Bot (NB) Theme (eYRC 2020-21).\n",
    "*\n",
    "*  Filename:\t\t\tD2BIN_PY.py\n",
    "*  Created:\t\t\t\t04/10/2020\n",
    "*  Last Modified:\t\t04/10/2020\n",
    "*  Author:\t\t\t\te-Yantra Team\n",
    "*\n",
    "*****************************************************************************************\n",
    "'''\n",
    "\n",
    "# Function to calculate Euclidean distance between two points\n",
    "def dec_to_binary(n):\n",
    "\n",
    "    bin_num =\"\"\n",
    "    i=n\n",
    "    # Complete this function to return binary equivalent output of the given number 'n' in 8-bit format\n",
    "    while(i>0):\n",
    "        bin_num=str(i%2)+bin_num\n",
    "        i=i//2\n",
    "    bin_num=\"0\"*(8-len(bin_num))+bin_num\n",
    "    return bin_num\n",
    "\n",
    "\n",
    "# Main function\n",
    "if __name__ == '__main__':\n",
    "\n",
    "    # take the T (test_cases) input\n",
    "    test_cases = int(input())\n",
    "\n",
    "    # Write the code here to take the n value\n",
    "    for case in range(1,test_cases+1):\n",
    "        # take the n input values\n",
    "        n = int(input())\n",
    "        \n",
    "        # print (n)\n",
    "        \n",
    "        # Once you have the n value, call the dec_to_binary function to find the binary equivalent of 'n' in 8-bit format\n",
    "        bin_num = dec_to_binary(n)\n",
    "        print(bin_num)\n"
   ]
  }
 ],
 "metadata": {
  "kernelspec": {
   "display_name": "NB_2182",
   "language": "python",
   "name": "nb_2182"
  },
  "language_info": {
   "codemirror_mode": {
    "name": "ipython",
    "version": 3
   },
   "file_extension": ".py",
   "mimetype": "text/x-python",
   "name": "python",
   "nbconvert_exporter": "python",
   "pygments_lexer": "ipython3",
   "version": "3.8.5"
  }
 },
 "nbformat": 4,
 "nbformat_minor": 4
}
