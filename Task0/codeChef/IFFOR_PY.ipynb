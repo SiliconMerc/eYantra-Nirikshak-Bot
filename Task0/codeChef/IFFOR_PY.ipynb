{
 "cells": [
  {
   "cell_type": "code",
   "execution_count": 14,
   "metadata": {},
   "outputs": [
    {
     "name": "stdout",
     "output_type": "stream",
     "text": [
      "3\n"
     ]
    }
   ],
   "source": [
    "'''\n",
    "*****************************************************************************************\n",
    "*\n",
    "*\n",
    "*  This script is code stub for CodeChef problem code IFFOR_PY\n",
    "*  under contest PYLT20TS in Task 0 of Nirikshak Bot (NB) Theme (eYRC 2020-21).\n",
    "*\n",
    "*  Filename:\t\t\tIFFOR_PY.py\n",
    "*  Created:\t\t\t\t19/09/2020\n",
    "*  Last Modified:\t\t21/09/2020\n",
    "*  Author:\t\t\t\te-Yantra Team\n",
    "*\n",
    "*****************************************************************************************\n",
    "'''\n",
    "\n",
    "# Main function\n",
    "if __name__ == '__main__':\n",
    "\t\n",
    "\t# Take the T (test_cases) input\n",
    "\ttest_cases = int(input())\n",
    "    \n",
    "\t# Write your code from here\n",
    "\t"
   ]
  },
  {
   "cell_type": "code",
   "execution_count": 18,
   "metadata": {},
   "outputs": [
    {
     "name": "stdout",
     "output_type": "stream",
     "text": [
      "2\n",
      "3 1\n",
      "5\n",
      "3 1 4 9 8\n",
      "3\n",
      "3 1 4\n"
     ]
    }
   ],
   "source": [
    "     for i in range(test_cases):\n",
    "        n=int(input())\n",
    "        for j in range(n):\n",
    "            if(j==n-1):\n",
    "                if((n-1)%2==0):\n",
    "                    print(2*(n-1),end =\"\\n\")\n",
    "                else:\n",
    "                    print((n-1)**2,end =\"\\n\")\n",
    "                break\n",
    "            if(j==0):\n",
    "                print(3,end=\" \")\n",
    "            elif(j%2==0):\n",
    "                print(2*j,end = \" \")\n",
    "            else:\n",
    "                print(j**2,end = \" \")\n",
    "        \n",
    "        \n",
    "            \n",
    "           "
   ]
  }
 ],
 "metadata": {
  "kernelspec": {
   "display_name": "Python 3",
   "language": "python",
   "name": "python3"
  },
  "language_info": {
   "codemirror_mode": {
    "name": "ipython",
    "version": 3
   },
   "file_extension": ".py",
   "mimetype": "text/x-python",
   "name": "python",
   "nbconvert_exporter": "python",
   "pygments_lexer": "ipython3",
   "version": "3.8.5"
  }
 },
 "nbformat": 4,
 "nbformat_minor": 4
}
