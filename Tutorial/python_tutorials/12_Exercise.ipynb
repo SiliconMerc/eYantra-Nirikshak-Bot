{
 "cells": [
  {
   "cell_type": "markdown",
   "metadata": {},
   "source": [
    "### Getting Started with Python"
   ]
  },
  {
   "cell_type": "raw",
   "metadata": {},
   "source": [
    "1. What will be the output of the following code snippet?"
   ]
  },
  {
   "cell_type": "code",
   "execution_count": 1,
   "metadata": {
    "scrolled": true
   },
   "outputs": [
    {
     "name": "stdout",
     "output_type": "stream",
     "text": [
      "Guess the number: 5\n",
      "You have guessed the number correctly\n"
     ]
    }
   ],
   "source": [
    "num = int(input(\"Guess the number: \"))\n",
    "if(num == 5):\n",
    "    print (\"You have guessed the number correctly\")\n",
    "else:\n",
    "    print (\"You have guessed the number incorrectly\")"
   ]
  },
  {
   "cell_type": "markdown",
   "metadata": {},
   "source": [
    "### Strings"
   ]
  },
  {
   "cell_type": "raw",
   "metadata": {},
   "source": [
    "1. Input two strings from user and print them as a single string"
   ]
  },
  {
   "cell_type": "code",
   "execution_count": 2,
   "metadata": {},
   "outputs": [
    {
     "name": "stdout",
     "output_type": "stream",
     "text": [
      "gno\n",
      "nok\n",
      "gnonok\n"
     ]
    }
   ],
   "source": [
    "str1=input()\n",
    "str2=input()\n",
    "print(str1+str2)"
   ]
  },
  {
   "cell_type": "raw",
   "metadata": {},
   "source": [
    "2. String_1 = \"Welcome to Five days workshop\"\n",
    "Replace all \"e\" in String_1 with \"o\" and output total number of \"o\" in the replaced String_1 "
   ]
  },
  {
   "cell_type": "code",
   "execution_count": 7,
   "metadata": {},
   "outputs": [
    {
     "name": "stdout",
     "output_type": "stream",
     "text": [
      "Wolcomo to Fivo days workshop\n",
      "7\n"
     ]
    }
   ],
   "source": [
    "String_1 = \"Welcome to Five days workshop\"\n",
    "print(String_1.replace(\"e\",\"o\"))\n",
    "print(String_1.replace(\"e\",\"o\").count(\"o\"))"
   ]
  },
  {
   "cell_type": "raw",
   "metadata": {},
   "source": [
    "3. Input a character from user and add the character alternatively in the word \"python\"\n",
    "Eg: if user inputs * then ouput should be p*y*t*h*o*n"
   ]
  },
  {
   "cell_type": "code",
   "execution_count": 8,
   "metadata": {},
   "outputs": [
    {
     "name": "stdout",
     "output_type": "stream",
     "text": [
      "vllfm;v\n"
     ]
    },
    {
     "data": {
      "text/plain": [
       "'v*l*l*f*m*;*v'"
      ]
     },
     "execution_count": 8,
     "metadata": {},
     "output_type": "execute_result"
    }
   ],
   "source": [
    "\"*\".join(input())"
   ]
  },
  {
   "cell_type": "markdown",
   "metadata": {},
   "source": [
    "### Conditional Statement"
   ]
  },
  {
   "cell_type": "raw",
   "metadata": {},
   "source": [
    "1. Input mark from the user. If mark is greater than 50, then output that the \"You have passed\" else output \"You have failed\" on the screen console."
   ]
  },
  {
   "cell_type": "code",
   "execution_count": null,
   "metadata": {},
   "outputs": [],
   "source": []
  },
  {
   "cell_type": "markdown",
   "metadata": {},
   "source": [
    "### Loops"
   ]
  },
  {
   "cell_type": "raw",
   "metadata": {},
   "source": [
    "1. Input a number from the user and ouput its factorial"
   ]
  },
  {
   "cell_type": "code",
   "execution_count": null,
   "metadata": {},
   "outputs": [],
   "source": []
  },
  {
   "cell_type": "raw",
   "metadata": {},
   "source": [
    "2. Input a 3 digit number from user and output the sum of the digits of the number"
   ]
  },
  {
   "cell_type": "code",
   "execution_count": null,
   "metadata": {},
   "outputs": [],
   "source": []
  },
  {
   "cell_type": "markdown",
   "metadata": {},
   "source": [
    "### Tuple and List"
   ]
  },
  {
   "cell_type": "raw",
   "metadata": {},
   "source": [
    "1. What will be the output of the following code snippet?"
   ]
  },
  {
   "cell_type": "code",
   "execution_count": 10,
   "metadata": {},
   "outputs": [
    {
     "name": "stdout",
     "output_type": "stream",
     "text": [
      "[5, 4, 3, 8, 1]\n"
     ]
    }
   ],
   "source": [
    "new_list = [1,2,3,4,5]\n",
    "new_list.reverse()\n",
    "new_list[3:4]=[8]\n",
    "print(new_list)"
   ]
  },
  {
   "cell_type": "raw",
   "metadata": {},
   "source": [
    "2. Convert all integer elements in the list [23,1,4,56,123,5,76] to string elements ['23','1','4','56','123','5','76']."
   ]
  },
  {
   "cell_type": "code",
   "execution_count": 12,
   "metadata": {},
   "outputs": [
    {
     "name": "stdout",
     "output_type": "stream",
     "text": [
      "['23', '1', '4', '56', '123', '5', '76']\n"
     ]
    }
   ],
   "source": [
    "listX=[23,1,4,56,123,5,76]\n",
    "for i in range(len(listX)):\n",
    "    listX[i]=str(listX[i])\n",
    "print(listX)\n",
    "    "
   ]
  },
  {
   "cell_type": "raw",
   "metadata": {},
   "source": [
    "3. Find the repeated items in a tuple\n",
    "    tup_1 = (1,2,3,4,1,2,1,5,3,1,2,6)\n",
    "    for example , if 1 and 2 gets repeated, output must be \n",
    "    Repeated items are : 1,2"
   ]
  },
  {
   "cell_type": "code",
   "execution_count": 28,
   "metadata": {},
   "outputs": [
    {
     "name": "stdout",
     "output_type": "stream",
     "text": [
      "[1, 2, 3]\n"
     ]
    }
   ],
   "source": [
    "tup_1 = (1,2,3,4,1,2,1,5,3,1,2,6)\n",
    "# print(tup_1.count(1))\n",
    "list=[]\n",
    "for i in tup_1:\n",
    "#     print(tup_1.count(i) is not 1)\n",
    "    if(tup_1.count(i) != 1):\n",
    "        if(not (i in list)):\n",
    "#             print(not (i in list))\n",
    "#             print(i)\n",
    "            list+=[i]\n",
    "#         print(i)\n",
    "print(list)"
   ]
  },
  {
   "cell_type": "markdown",
   "metadata": {},
   "source": [
    "### Dictionary"
   ]
  },
  {
   "cell_type": "raw",
   "metadata": {},
   "source": [
    "1. Create a dictionary with key elements 1,2,3 addressing to 'apple','mango','grape'"
   ]
  },
  {
   "cell_type": "code",
   "execution_count": 31,
   "metadata": {},
   "outputs": [
    {
     "name": "stdout",
     "output_type": "stream",
     "text": [
      "<class 'dict'>\n",
      "apple\n"
     ]
    }
   ],
   "source": [
    "dict={1:\"apple\",2:\"mango\",3:\"grape\"}\n",
    "print(type(dict))\n",
    "print(dict[1])"
   ]
  },
  {
   "cell_type": "code",
   "execution_count": null,
   "metadata": {},
   "outputs": [],
   "source": []
  }
 ],
 "metadata": {
  "kernelspec": {
   "display_name": "NB_2182",
   "language": "python",
   "name": "nb_2182"
  },
  "language_info": {
   "codemirror_mode": {
    "name": "ipython",
    "version": 3
   },
   "file_extension": ".py",
   "mimetype": "text/x-python",
   "name": "python",
   "nbconvert_exporter": "python",
   "pygments_lexer": "ipython3",
   "version": "3.8.5"
  }
 },
 "nbformat": 4,
 "nbformat_minor": 2
}
